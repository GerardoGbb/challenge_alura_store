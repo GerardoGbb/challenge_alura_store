{
  "nbformat": 4,
  "nbformat_minor": 0,
  "metadata": {
    "colab": {
      "provenance": [],
      "authorship_tag": "ABX9TyPbk/0dq7H0VC837hFFhubI",
      "include_colab_link": true
    },
    "kernelspec": {
      "name": "python3",
      "display_name": "Python 3"
    },
    "language_info": {
      "name": "python"
    }
  },
  "cells": [
    {
      "cell_type": "markdown",
      "metadata": {
        "id": "view-in-github",
        "colab_type": "text"
      },
      "source": [
        "<a href=\"https://colab.research.google.com/github/GerardoGbb/challenge_alura_store/blob/main/visualizacion_datos.ipynb\" target=\"_parent\"><img src=\"https://colab.research.google.com/assets/colab-badge.svg\" alt=\"Open In Colab\"/></a>"
      ]
    },
    {
      "cell_type": "code",
      "execution_count": null,
      "metadata": {
        "id": "laUUEC4oKhbc"
      },
      "outputs": [],
      "source": [
        "import pandas as pd\n",
        "import matplotlib.pyplot as plt\n",
        "\n",
        "# --- 1. Cargar los datos ---\n",
        "url_tienda1 = \"https://raw.githubusercontent.com/alura-es-cursos/challenge1-data-science-latam/refs/heads/main/base-de-datos-challenge1-latam/tienda_1%20.csv\"\n",
        "url_tienda2 = \"https://raw.githubusercontent.com/alura-es-cursos/challenge1-data-science-latam/refs/heads/main/base-de-datos-challenge1-latam/tienda_2.csv\"\n",
        "url_tienda3 = \"https://raw.githubusercontent.com/alura-es-cursos/challenge1-data-science-latam/refs/heads/main/base-de-datos-challenge1-latam/tienda_3.csv\"\n",
        "url_tienda4 = \"https://raw.githubusercontent.com/alura-es-cursos/challenge1-data-science-latam/refs/heads/main/base-de-datos-challenge1-latam/tienda_4.csv\"\n",
        "\n",
        "tienda1_df = pd.read_csv(url_tienda1)\n",
        "tienda2_df = pd.read_csv(url_tienda2)\n",
        "tienda3_df = pd.read_csv(url_tienda3)\n",
        "tienda4_df = pd.read_csv(url_tienda4)\n",
        "\n",
        "# --- 2. Análisis de Ingresos (Reutilizando el código anterior) ---\n",
        "ingreso_tienda1 = tienda1_df['Precio'].sum()\n",
        "ingreso_tienda2 = tienda2_df['Precio'].sum()\n",
        "ingreso_tienda3 = tienda3_df['Precio'].sum()\n",
        "ingreso_tienda4 = tienda4_df['Precio'].sum()\n",
        "\n",
        "ingresos_totales_df = pd.DataFrame({\n",
        "    'Tienda': ['Tienda 1', 'Tienda 2', 'Tienda 3', 'Tienda 4'],\n",
        "    'Ingreso Total': [ingreso_tienda1, ingreso_tienda2, ingreso_tienda3, ingreso_tienda4]\n",
        "})\n",
        "\n",
        "# --- 3. Análisis de Reseñas de los Clientes (Reutilizando el código anterior) ---\n",
        "calificacion_promedio_tienda1 = tienda1_df['Calificación'].mean()\n",
        "calificacion_promedio_tienda2 = tienda2_df['Calificación'].mean()\n",
        "calificacion_promedio_tienda3 = tienda3_df['Calificación'].mean()\n",
        "calificacion_promedio_tienda4 = tienda4_df['Calificación'].mean()\n",
        "\n",
        "calificaciones_promedio_df = pd.DataFrame({\n",
        "    'Tienda': ['Tienda 1', 'Tienda 2', 'Tienda 3', 'Tienda 4'],\n",
        "    'Calificación Promedio': [calificacion_promedio_tienda1,\n",
        "                               calificacion_promedio_tienda2,\n",
        "                               calificacion_promedio_tienda3,\n",
        "                               calificacion_promedio_tienda4]\n",
        "})\n",
        "\n",
        "# --- 4. Visualizaciones ---\n",
        "\n",
        "# 4.1. Gráfico de Barras: Ingresos Totales por Tienda\n",
        "plt.figure(figsize=(8, 6))\n",
        "plt.bar(ingresos_totales_df['Tienda'], ingresos_totales_df['Ingreso Total'], color='skyblue')\n",
        "plt.xlabel('Tienda')\n",
        "plt.ylabel('Ingreso Total')\n",
        "plt.title('Ingreso Total por Tienda')\n",
        "plt.xticks(rotation=45, ha=\"right\")\n",
        "plt.tight_layout()\n",
        "plt.show()\n",
        "\n",
        "# 4.2. Gráfico de Barras: Calificación Promedio por Tienda\n",
        "plt.figure(figsize=(8, 6))\n",
        "plt.bar(calificaciones_promedio_df['Tienda'], calificaciones_promedio_df['Calificación Promedio'], color='lightgreen')\n",
        "plt.xlabel('Tienda')\n",
        "plt.ylabel('Calificación Promedio')\n",
        "plt.title('Calificación Promedio por Tienda')\n",
        "plt.xticks(rotation=45, ha=\"right\")\n",
        "plt.ylim(0, 5)  # Asumiendo una escala de calificación de 1 a 5\n",
        "plt.tight_layout()\n",
        "plt.show()\n",
        "\n",
        "# 4.3. Gráfico Circular: Distribución de Ingresos por Tienda\n",
        "plt.figure(figsize=(8, 8))\n",
        "plt.pie(ingresos_totales_df['Ingreso Total'], labels=ingresos_totales_df['Tienda'], autopct='%1.1f%%', startangle=140, colors=['lightcoral', 'lightskyblue', 'lightgreen', 'lightsalmon'])\n",
        "plt.title('Distribución de Ingresos Totales por Tienda')\n",
        "plt.tight_layout()\n",
        "plt.show()"
      ]
    }
  ]
}